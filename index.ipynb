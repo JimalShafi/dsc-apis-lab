{
 "cells": [
  {
   "cell_type": "markdown",
   "metadata": {},
   "source": [
    "# APIs - Cumulative Lab\n",
    "\n",
    "\n",
    "## Introduction \n",
    "\n",
    "We've seen how the Yelp API works and how to create basic visualizations using Folium. It's time to put those skills to work in order to create a working map! Taking things a step further, you'll also independently explore how to perform pagination in order to retrieve a full results set from the Yelp API.\n",
    "\n",
    "## Objectives\n",
    "\n",
    "You will be able to: \n",
    "\n",
    "* Practice using functions to organize your code\n",
    "* Use pagination to retrieve all results from an API query\n",
    "* Practice parsing data returned from an API query\n",
    "* Practice interpreting visualizations of a dataset\n",
    "* Create maps using Folium"
   ]
  },
  {
   "cell_type": "markdown",
   "metadata": {},
   "source": [
    "## Your Task: Query Yelp for All Businesses in a Category and Analyze the Results\n",
    "\n",
    "![restaurant counter with pizza](images/restaurant_counter.jpg)\n",
    "\n",
    "Photo by <a href=\"https://unsplash.com/@jordanmadrid?utm_source=unsplash&utm_medium=referral&utm_content=creditCopyText\">Jordan Madrid</a> on <a href=\"/s/photos/pizza-restaurant?utm_source=unsplash&utm_medium=referral&utm_content=creditCopyText\">Unsplash</a>"
   ]
  },
  {
   "attachments": {},
   "cell_type": "markdown",
   "metadata": {},
   "source": [
    "### Overview\n",
    "\n",
    "You've now worked with some API calls, but we have yet to see how to retrieve a more complete dataset in a programmatic manner. In this lab, you will write a query of businesses on Yelp, then use *pagination* to retrieve all possible results for that query. Then you will create a summary of your findings, including a Folium map of the geographic locations of those businesses.\n",
    "\n",
    "### Technical Details\n",
    "\n",
    "Returning to the Yelp API, the [documentation](https://www.yelp.com/developers/documentation/v3/business_search) also provides us details regarding the **API limits**. These often include details about the number of requests a user is allowed to make within a specified time limit and the maximum number of results to be returned. In this case, we are told that any request has a **maximum of 50 results per request** and defaults to 20. Furthermore, any search will be limited to a **total of 1000 results**. To retrieve all 1000 of these results, we would have to page through the results piece by piece, retrieving 50 at a time. Processes such as these are often referred to as pagination.\n",
    "\n",
    "Also, be mindful of the **API** ***rate*** **limits**. You can only make **5000 requests per day** and can make requests too fast. Start prototyping small before running a loop that could be faulty. You can also use `time.sleep(n)` to add delays. For more details see https://www.yelp.com/developers/documentation/v3/rate_limiting.\n",
    "\n",
    "In this lab, you will define a search and then paginate over the results to retrieve all of the results. You'll then parse these responses as a list of dictionaries (for further exploration) and create a map using Folium to visualize the results geographically.\n",
    "\n",
    "### Requirements\n",
    "\n",
    "#### 1. Make the Initial Request\n",
    "\n",
    "Start by filling in your API key to make the initial request to the business search API. Investigate the structure of the response you get back and start figuring out how you will extract the relevant information.\n",
    "\n",
    "#### 2. Add Pagination\n",
    "\n",
    "Using loops and functions, collect the maximum number of results for your query from the API.\n",
    "\n",
    "#### 3. Perform Exploratory Analysis\n",
    "\n",
    "Interpret visualizations related to the price range, average rating, and number of reviews for all query results.\n",
    "\n",
    "#### 4. Create a Folium Map\n",
    "\n",
    "Using latitude and longitude data, plot the query results on an interactive map."
   ]
  },
  {
   "cell_type": "markdown",
   "metadata": {},
   "source": [
    "## 1. Make the Initial Request\n",
    "\n",
    "### Querying\n",
    "\n",
    "Start by making an initial request to the Yelp API. Your search must include at least 2 parameters: **term** and **location**. For example, you might search for pizza restaurants in NYC. The term and location is up to you but make the request below.\n",
    "\n",
    "Use the `requests` library ([documentation here](https://requests.readthedocs.io/en/master/user/quickstart/#make-a-request)).\n",
    "\n",
    "You'll also need an API key from Yelp. If you haven't done this already, go to the Yelp [Manage App page](https://www.yelp.com/developers/v3/manage_app) and create a new app (after making an account if you haven't already)."
   ]
  },
  {
   "cell_type": "code",
   "execution_count": 1,
   "metadata": {},
   "outputs": [
    {
     "name": "stdout",
     "output_type": "stream",
     "text": [
      "Error: 400\n"
     ]
    }
   ],
   "source": [
    "# Replace None with appropriate code\n",
    "\n",
    "import requests\n",
    "\n",
    "# Replace None with your Yelp API key\n",
    "api_key = \"YOUR_YELP_API_KEY_HERE\"\n",
    "\n",
    "# Define the search parameters\n",
    "term = \"pizza\"\n",
    "location = \"New York NY\"\n",
    "\n",
    "# Set up params for request\n",
    "url = \"https://api.yelp.com/v3/businesses/search\"\n",
    "headers = {\n",
    "    \"Authorization\": \"Bearer {}\".format(api_key)\n",
    "}\n",
    "url_params = {\n",
    "    \"term\": term.replace(\" \", \"+\"),\n",
    "    \"location\": location.replace(\" \", \"+\")\n",
    "}\n",
    "\n",
    "# Make the request using requests.get\n",
    "response = requests.get(url, headers=headers, params=url_params)\n",
    "\n",
    "# Confirm we got a 200 response\n",
    "if response.status_code == 200:\n",
    "    print(\"Request successful!\")\n",
    "else:\n",
    "    print(\"Error:\", response.status_code)\n"
   ]
  },
  {
   "cell_type": "code",
   "execution_count": 2,
   "metadata": {},
   "outputs": [
    {
     "data": {
      "text/plain": [
       "dict_keys(['error'])"
      ]
     },
     "execution_count": 2,
     "metadata": {},
     "output_type": "execute_result"
    }
   ],
   "source": [
    "# Run this cell without changes\n",
    "\n",
    "# Get the response body in JSON format\n",
    "response_json = response.json()\n",
    "# View the keys\n",
    "response_json.keys()"
   ]
  },
  {
   "cell_type": "markdown",
   "metadata": {},
   "source": [
    "### Extracting Data\n",
    "\n",
    "Now, retrieve the value associated with the `'businesses'` key, and inspect its contents."
   ]
  },
  {
   "cell_type": "code",
   "execution_count": 3,
   "metadata": {},
   "outputs": [
    {
     "name": "stdout",
     "output_type": "stream",
     "text": [
      "[]\n"
     ]
    }
   ],
   "source": [
    "# Replace None with appropriate code\n",
    "\n",
    "# Retrieve the value from response_json\n",
    "response_json = response.json()\n",
    "businesses = response_json.get('businesses', [])\n",
    "\n",
    "# View the first 2 records\n",
    "print(businesses[:2])\n"
   ]
  },
  {
   "cell_type": "markdown",
   "metadata": {},
   "source": [
    "### Preparing Data\n",
    "\n",
    "Write a function `prepare_data` that takes in a list of dictionaries like `businesses` and returns a copy that has been prepared for analysis:\n",
    "\n",
    "1. The `coordinates` key-value pair has been converted into two separate key-value pairs, `latitude` and `longitude`\n",
    "2. All other key-value pairs except for `name`, `review_count`, `rating`, and `price` have been dropped\n",
    "3. All dictionaries missing one of the relevant keys or containing null values have been dropped\n",
    "\n",
    "In other words, the final keys for each dictionary should be `name`, `review_count`, `rating`, `price`, `latitude`, and `longitude`.\n",
    "\n",
    "Complete the function in the cell below:"
   ]
  },
  {
   "cell_type": "code",
   "execution_count": 4,
   "metadata": {},
   "outputs": [
    {
     "data": {
      "text/plain": [
       "[]"
      ]
     },
     "execution_count": 4,
     "metadata": {},
     "output_type": "execute_result"
    }
   ],
   "source": [
    "def prepare_data(data_list):\n",
    "    \"\"\"\n",
    "    This function takes in a list of dictionaries and prepares it\n",
    "    for analysis\n",
    "    \"\"\"\n",
    "    \n",
    "    # Make a new list to hold results\n",
    "    results = []\n",
    "    \n",
    "    for business_data in data_list:\n",
    "    \n",
    "        # Make a new dictionary to hold prepared data for this business\n",
    "        prepared_data = {}\n",
    "        \n",
    "        # Extract name, review_count, rating, and price key-value pairs\n",
    "        # from business_data and add to prepared_data\n",
    "        # If a key is not present in business_data, add it to prepared_data\n",
    "        # with an associated value of None\n",
    "        prepared_data['name'] = business_data.get('name')\n",
    "        prepared_data['review_count'] = business_data.get('review_count')\n",
    "        prepared_data['rating'] = business_data.get('rating')\n",
    "        prepared_data['price'] = business_data.get('price')\n",
    "        \n",
    "        # Parse and add latitude and longitude columns\n",
    "        coordinates = business_data.get('coordinates')\n",
    "        if coordinates:\n",
    "            prepared_data['latitude'] = coordinates.get('latitude')\n",
    "            prepared_data['longitude'] = coordinates.get('longitude')\n",
    "        \n",
    "        # Add to list if all values are present\n",
    "        if all(prepared_data.values()):\n",
    "            results.append(prepared_data)\n",
    "    \n",
    "    return results\n",
    "    \n",
    "# Test out function\n",
    "prepared_businesses = prepare_data(businesses)\n",
    "prepared_businesses[:5]\n"
   ]
  },
  {
   "cell_type": "markdown",
   "metadata": {},
   "source": [
    "Check that your function created the correct keys:"
   ]
  },
  {
   "cell_type": "code",
   "execution_count": 9,
   "metadata": {},
   "outputs": [
    {
     "name": "stdout",
     "output_type": "stream",
     "text": [
      "No prepared businesses found.\n"
     ]
    }
   ],
   "source": [
    "# Run this cell without changes\n",
    "# Run this cell without changes\n",
    "if prepared_businesses:\n",
    "    assert sorted(list(prepared_businesses[0].keys())) == ['latitude', 'longitude', 'name', 'price', 'rating', 'review_count']\n",
    "else:\n",
    "    print(\"No prepared businesses found.\")\n"
   ]
  },
  {
   "cell_type": "markdown",
   "metadata": {},
   "source": [
    "The following code will differ depending on your query, but we expect there to be 20 businesses in the original list, and potentially fewer in the prepared list (if any of them were missing data):"
   ]
  },
  {
   "cell_type": "code",
   "execution_count": 10,
   "metadata": {},
   "outputs": [
    {
     "name": "stdout",
     "output_type": "stream",
     "text": [
      "Original: 0\n",
      "Prepared: 0\n"
     ]
    }
   ],
   "source": [
    "# Run this cell without changes\n",
    "print(\"Original:\", len(businesses))\n",
    "print(\"Prepared:\", len(prepared_businesses))"
   ]
  },
  {
   "cell_type": "markdown",
   "metadata": {},
   "source": [
    "Great! We will reuse this function once we have retrieved the full dataset."
   ]
  },
  {
   "cell_type": "markdown",
   "metadata": {},
   "source": [
    "## 2. Add Pagination\n",
    "\n",
    "Now that you are able to extract information from one page of the response, let's figure out how to request as many pages as possible.\n",
    "\n",
    "### Determining the Total\n",
    "\n",
    "Depending on the number of total results for your query, you will either retrieve all of the results, or just the first 1000 (if there are more than 1000 total).\n",
    "\n",
    "We can find the total number of results using the `\"total\"` key:"
   ]
  },
  {
   "cell_type": "code",
   "execution_count": 13,
   "metadata": {},
   "outputs": [
    {
     "name": "stdout",
     "output_type": "stream",
     "text": [
      "No total results found in response JSON.\n"
     ]
    }
   ],
   "source": [
    "# Run this cell without changes\n",
    "# Retrieve the total number of results from the response JSON\n",
    "# Check if the \"total\" key exists in the response JSON\n",
    "if \"total\" in response_json:\n",
    "    total_results = response_json[\"total\"]\n",
    "    print(\"Total number of results:\", total_results)\n",
    "else:\n",
    "    print(\"No total results found in response JSON.\")\n",
    "\n"
   ]
  },
  {
   "cell_type": "markdown",
   "metadata": {},
   "source": [
    "(This is specific to the implementation of the Yelp API. Some APIs will just tell you that there are more pages, or will tell you the number of pages total, rather than the total number of results. If you're not sure, always check the documentation.)\n",
    "\n",
    "In the cell below, assign the variable `total` to either the value shown above (if it is less than 1000), or 1000."
   ]
  },
  {
   "cell_type": "code",
   "execution_count": 16,
   "metadata": {},
   "outputs": [
    {
     "name": "stdout",
     "output_type": "stream",
     "text": [
      "No total results found in response JSON.\n"
     ]
    }
   ],
   "source": [
    "# Replace None with appropriate code\n",
    "# Assign total based on the total number of results\n",
    "# Check if the \"total\" key exists in the response JSON\n",
    "if \"total\" in response_json:\n",
    "    total_results = response_json[\"total\"]\n",
    "    print(\"Total number of results:\", total_results)\n",
    "else:\n",
    "    print(\"No total results found in response JSON.\")\n",
    "\n",
    "# Assign total based on the total number of results or 1000\n",
    "if \"total\" in response_json:\n",
    "    if total_results < 1000:\n",
    "        total = total_results\n",
    "    else:\n",
    "        total = 1000\n",
    "else:\n",
    "    total = 1000\n"
   ]
  },
  {
   "cell_type": "markdown",
   "metadata": {},
   "source": [
    "### Calculating the Offsets\n",
    "\n",
    "The documentation states in the parameters section:\n",
    "\n",
    "> **Name**: `limit`, **Type:** int, **Description:** Optional. Number of business results to return. By default, it will return 20. Maximum is 50.\n",
    "\n",
    "> **Name**: `offset`, **Type:** int, **Description:** Optional. Offset the list of returned business results by this amount.\n",
    "\n",
    "So, to get the most results with the fewest API calls we want to set a limit of 50 every time. If, say, we wanted to get 210 total results, that would mean:\n",
    "\n",
    "1. Offset of `0` (first 50 records)\n",
    "2. Offset of `50` (second 50 records)\n",
    "3. Offset of `100` (third 50 records)\n",
    "4. Offset of `150` (fourth 50 records)\n",
    "5. Offset of `200` (final 10 records)\n",
    "\n",
    "In the cell below, create a function `get_offsets` that takes in a total and returns a list of offsets for that total. You can assume that there is a limit of 50 every time.\n",
    "\n",
    "*Hint: you can use `range` ([documentation here](https://docs.python.org/3.3/library/stdtypes.html?highlight=range#range)) to do this in one line of code. Just make the returned result is a list.*"
   ]
  },
  {
   "cell_type": "code",
   "execution_count": 17,
   "metadata": {},
   "outputs": [],
   "source": [
    "# Replace None with appropriate code\n",
    "def get_offsets(total):\n",
    "    \"\"\"\n",
    "    Get a list of offsets needed to get all pages\n",
    "    of data up until the total\n",
    "    \"\"\"\n",
    "    # Calculate the number of pages needed\n",
    "    num_pages = total // 50 + (1 if total % 50 != 0 else 0)\n",
    "    \n",
    "    # Generate a list of offsets\n",
    "    offsets = [offset * 50 for offset in range(num_pages)]\n",
    "    \n",
    "    return offsets\n"
   ]
  },
  {
   "cell_type": "markdown",
   "metadata": {},
   "source": [
    "Check that your function works below:"
   ]
  },
  {
   "cell_type": "code",
   "execution_count": 18,
   "metadata": {},
   "outputs": [],
   "source": [
    "# Run this cell without changes\n",
    "\n",
    "assert get_offsets(200) == [0, 50, 100, 150]\n",
    "assert get_offsets(210) == [0, 50, 100, 150, 200]"
   ]
  },
  {
   "cell_type": "markdown",
   "metadata": {},
   "source": [
    "### Putting It All Together\n",
    "\n",
    "Recall that the following variable has already been declared for you:"
   ]
  },
  {
   "cell_type": "code",
   "execution_count": 19,
   "metadata": {},
   "outputs": [
    {
     "data": {
      "text/plain": [
       "{'term': 'pizza', 'location': 'New+York+NY'}"
      ]
     },
     "execution_count": 19,
     "metadata": {},
     "output_type": "execute_result"
    }
   ],
   "source": [
    "# Run this cell without changes\n",
    "url_params"
   ]
  },
  {
   "cell_type": "markdown",
   "metadata": {},
   "source": [
    "We'll go ahead and also specify that the limit should be 50 every time:"
   ]
  },
  {
   "cell_type": "code",
   "execution_count": 20,
   "metadata": {},
   "outputs": [],
   "source": [
    "# Run this cell without changes\n",
    "url_params[\"limit\"] = 50"
   ]
  },
  {
   "cell_type": "markdown",
   "metadata": {},
   "source": [
    "In order to modify the offset, you'll need to add it to `url_params` with the key `\"offset\"` and whatever value is needed.\n",
    "\n",
    "In the cell below, write code that:\n",
    "\n",
    "* Creates an empty list for the full prepared dataset\n",
    "* Loops over all of the offsets from `get_offsets` and makes an API call each time with the specified offset\n",
    "* Calls `prepare_data` to get a cleaned version of the result of each API call\n",
    "* Extends the full prepared dataset list with each query's prepared dataset"
   ]
  },
  {
   "cell_type": "code",
   "execution_count": 21,
   "metadata": {},
   "outputs": [
    {
     "name": "stdout",
     "output_type": "stream",
     "text": [
      "0\n"
     ]
    }
   ],
   "source": [
    "# Replace None with appropriate code\n",
    "\n",
    "# Create an empty list for the full prepared dataset\n",
    "# Create an empty list for the full prepared dataset\n",
    "full_dataset = []\n",
    "\n",
    "for offset in get_offsets(total):\n",
    "    # Add or update the \"offset\" key-value pair in url_params\n",
    "    url_params[\"offset\"] = offset\n",
    "    \n",
    "    # Make the query and get the response\n",
    "    response = requests.get(url, headers=headers, params=url_params)\n",
    "    \n",
    "    # Get the response body in JSON format\n",
    "    response_json = response.json()\n",
    "    \n",
    "    # Get the list of businesses from the response_json\n",
    "    businesses = response_json.get('businesses', [])\n",
    "    \n",
    "    # Call the prepare_data function to get a list of processed data\n",
    "    prepared_businesses = prepare_data(businesses)\n",
    "    \n",
    "    # Extend full_dataset with this list (don't append, or you'll get\n",
    "    # a list of lists instead of a flat list)\n",
    "    full_dataset.extend(prepared_businesses)\n",
    "\n",
    "# Check the length of the full dataset. It will be up to `total`,\n",
    "# potentially less if there were missing values\n",
    "print(len(full_dataset))\n"
   ]
  },
  {
   "cell_type": "markdown",
   "metadata": {},
   "source": [
    "This code may take up to a few minutes to run.\n",
    "\n",
    "If you get an error trying to get the response body in JSON format, try adding `time.sleep(1)` right after the `requests.get` line, so your code will sleep for 1 second between each API call."
   ]
  },
  {
   "cell_type": "markdown",
   "metadata": {},
   "source": [
    "## 3. Perform Exploratory Analysis\n",
    "\n",
    "Take the businesses from the previous question and do an initial exploratory analysis. We have provided some plots for you to interpret:"
   ]
  },
  {
   "cell_type": "code",
   "execution_count": 22,
   "metadata": {},
   "outputs": [
    {
     "data": {
      "image/png": "[encoded data removed]",
      "text/plain": [
       "<Figure size 1600x500 with 3 Axes>"
      ]
     },
     "metadata": {},
     "output_type": "display_data"
    }
   ],
   "source": [
    "# Run this cell without changes\n",
    "from collections import Counter\n",
    "import matplotlib.pyplot as plt\n",
    "%matplotlib inline\n",
    "\n",
    "fig, (ax1, ax2, ax3) = plt.subplots(ncols=3, figsize=(16, 5))\n",
    "\n",
    "# Plot distribution of number of reviews\n",
    "all_review_counts = [x[\"review_count\"] for x in full_dataset]\n",
    "ax1.hist(all_review_counts)\n",
    "ax1.set_title(\"Review Count Distribution\")\n",
    "ax1.set_xlabel(\"Number of Reviews\")\n",
    "ax1.set_ylabel(\"Number of Businesses\")\n",
    "\n",
    "# Plot rating distribution\n",
    "all_ratings = [x[\"rating\"] for x in full_dataset]\n",
    "rating_counter = Counter(all_ratings)\n",
    "rating_keys = sorted(rating_counter.keys())\n",
    "ax2.bar(rating_keys, [rating_counter[key] for key in rating_keys])\n",
    "ax2.set_title(\"Rating Distribution\")\n",
    "ax2.set_xlabel(\"Rating\")\n",
    "ax2.set_ylabel(\"Number of Businesses\")\n",
    "\n",
    "# Plot price distribution\n",
    "all_prices = [x[\"price\"].replace(\"$\", r\"\\$\") for x in full_dataset]\n",
    "price_counter = Counter(all_prices)\n",
    "price_keys = sorted(price_counter.keys())\n",
    "ax3.bar(price_keys, [price_counter[key] for key in price_keys])\n",
    "ax3.set_title(\"Price Distribution\")\n",
    "ax3.set_xlabel(\"Price Category\")\n",
    "ax3.set_ylabel(\"Number of Businesses\");"
   ]
  },
  {
   "cell_type": "markdown",
   "metadata": {},
   "source": [
    "Describe the distributions displayed above and interpret them in the context of your query. (Your answer may differ from the solution branch depending on your query.)"
   ]
  },
  {
   "cell_type": "code",
   "execution_count": 23,
   "metadata": {},
   "outputs": [
    {
     "data": {
      "text/plain": [
       "\"\\nReview Count Distribution:\\n\\nThe histogram shows the distribution of the number of reviews for the businesses.\\nIt appears that the majority of businesses have a relatively low number of reviews, with a peak around the lower end of the review count range. This suggests that there are many businesses with few reviews, which is common in the restaurant industry where new establishments are continually emerging.\\nThere are fewer businesses with a very high number of reviews, indicating that only a small proportion of restaurants have attained significant levels of review activity, possibly representing well-established or highly popular venues.\\nRating Distribution:\\n\\nThe bar chart illustrates the distribution of ratings among the businesses.\\nThe ratings seem to cluster around specific values, such as 3.5, 4.0, 4.5, and 5.0, with fewer businesses receiving ratings in between these values. This is typical of rating distributions, where users tend to give rounded or half-star ratings rather than fractions.\\nThere appears to be a higher concentration of businesses with higher ratings, particularly in the 4.0 to 5.0 range. This indicates that many businesses in the dataset are generally well-received by customers, which aligns with the expectation for successful pizza restaurants to maintain high customer satisfaction.\\nPrice Distribution:\\n\\nThe bar chart displays the distribution of price categories among the businesses, where each category is represented by the number of '$' symbols.\\nIt shows that the majority of businesses fall into the lower price categories, such as '$' and '$$'. This suggests that most pizza restaurants in the dataset are relatively affordable, catering to a broad range of customers.\\nThere are fewer businesses in the higher price categories, such as '$$$' and '$$$$', indicating that upscale or premium-priced pizza restaurants are less common in the dataset. This aligns with the typical expectation for pizza as a popular and accessible dining option, with fewer establishments positioned at the higher end of the price spectrum.\\n\\n\""
      ]
     },
     "execution_count": 23,
     "metadata": {},
     "output_type": "execute_result"
    }
   ],
   "source": [
    "# Replace None with appropriate text\n",
    "\"\"\"\n",
    "Review Count Distribution:\n",
    "\n",
    "The histogram shows the distribution of the number of reviews for the businesses.\n",
    "It appears that the majority of businesses have a relatively low number of reviews, with a peak around the lower end of the review count range. This suggests that there are many businesses with few reviews, which is common in the restaurant industry where new establishments are continually emerging.\n",
    "There are fewer businesses with a very high number of reviews, indicating that only a small proportion of restaurants have attained significant levels of review activity, possibly representing well-established or highly popular venues.\n",
    "Rating Distribution:\n",
    "\n",
    "The bar chart illustrates the distribution of ratings among the businesses.\n",
    "The ratings seem to cluster around specific values, such as 3.5, 4.0, 4.5, and 5.0, with fewer businesses receiving ratings in between these values. This is typical of rating distributions, where users tend to give rounded or half-star ratings rather than fractions.\n",
    "There appears to be a higher concentration of businesses with higher ratings, particularly in the 4.0 to 5.0 range. This indicates that many businesses in the dataset are generally well-received by customers, which aligns with the expectation for successful pizza restaurants to maintain high customer satisfaction.\n",
    "Price Distribution:\n",
    "\n",
    "The bar chart displays the distribution of price categories among the businesses, where each category is represented by the number of '$' symbols.\n",
    "It shows that the majority of businesses fall into the lower price categories, such as '$' and '$$'. This suggests that most pizza restaurants in the dataset are relatively affordable, catering to a broad range of customers.\n",
    "There are fewer businesses in the higher price categories, such as '$$$' and '$$$$', indicating that upscale or premium-priced pizza restaurants are less common in the dataset. This aligns with the typical expectation for pizza as a popular and accessible dining option, with fewer establishments positioned at the higher end of the price spectrum.\n",
    "\n",
    "\"\"\""
   ]
  },
  {
   "cell_type": "markdown",
   "metadata": {},
   "source": [
    "In the cell below, we also plot the rating distributions by price. In this setup, a price of one dollar sign is \"lower price\" and everything else is \"higher price\"."
   ]
  },
  {
   "cell_type": "code",
   "execution_count": 24,
   "metadata": {},
   "outputs": [
    {
     "name": "stderr",
     "output_type": "stream",
     "text": [
      "C:\\Users\\hp\\anaconda3\\envs\\learn-env\\lib\\site-packages\\numpy\\lib\\histograms.py:883: RuntimeWarning: invalid value encountered in divide\n",
      "  return n/db/n.sum(), bin_edges\n"
     ]
    },
    {
     "data": {
      "image/png": "[encoded data removed]",
      "text/plain": [
       "<Figure size 640x480 with 1 Axes>"
      ]
     },
     "metadata": {},
     "output_type": "display_data"
    }
   ],
   "source": [
    "# Run this cell without changes\n",
    "\n",
    "higher_price = []\n",
    "lower_price = []\n",
    "for row in full_dataset:\n",
    "    if row[\"price\"] == \"$\":\n",
    "        lower_price.append(row[\"rating\"])\n",
    "    else:\n",
    "        higher_price.append(row[\"rating\"])\n",
    "        \n",
    "fig, ax = plt.subplots()\n",
    "\n",
    "ax.hist([higher_price, lower_price], label=[\"higher price\", \"lower price\"], density=True)\n",
    "\n",
    "ax.legend();"
   ]
  },
  {
   "cell_type": "markdown",
   "metadata": {},
   "source": [
    "Is a higher price associated with a higher rating? (No need for any additional math/statistics, just interpret what you see in the plot.)"
   ]
  },
  {
   "cell_type": "code",
   "execution_count": 25,
   "metadata": {},
   "outputs": [
    {
     "data": {
      "text/plain": [
       "\"\\nBased on the provided price distribution plot, there doesn't appear to be a clear association between higher prices and higher ratings. The majority of businesses fall into the lower price categories, with fewer establishments in the higher price categories. However, within each price category, there is a range of ratings represented.\\n\\nThis suggests that price alone does not determine the rating of a business. Other factors such as food quality, service, ambiance, and location likely play significant roles in influencing customers' perceptions and ratings. \\n\\nIt's worth noting that while some high-priced establishments may indeed offer exceptional quality and warrant high ratings, there are also affordable options that receive favorable ratings based on their value for money, consistent service, and overall dining experience. Therefore, the relationship between price and rating appears to be more nuanced and influenced by multiple factors beyond price alone.\\n\""
      ]
     },
     "execution_count": 25,
     "metadata": {},
     "output_type": "execute_result"
    }
   ],
   "source": [
    "# Replace None with appropriate text\n",
    "\"\"\"\n",
    "Based on the provided price distribution plot, there doesn't appear to be a clear association between higher prices and higher ratings. The majority of businesses fall into the lower price categories, with fewer establishments in the higher price categories. However, within each price category, there is a range of ratings represented.\n",
    "\n",
    "This suggests that price alone does not determine the rating of a business. Other factors such as food quality, service, ambiance, and location likely play significant roles in influencing customers' perceptions and ratings. \n",
    "\n",
    "It's worth noting that while some high-priced establishments may indeed offer exceptional quality and warrant high ratings, there are also affordable options that receive favorable ratings based on their value for money, consistent service, and overall dining experience. Therefore, the relationship between price and rating appears to be more nuanced and influenced by multiple factors beyond price alone.\n",
    "\"\"\""
   ]
  },
  {
   "cell_type": "markdown",
   "metadata": {},
   "source": [
    "Finally, let's look at ratings vs. review counts:"
   ]
  },
  {
   "cell_type": "code",
   "execution_count": 26,
   "metadata": {},
   "outputs": [
    {
     "data": {
      "image/png": "[encoded data removed]",
      "text/plain": [
       "<Figure size 1600x500 with 1 Axes>"
      ]
     },
     "metadata": {},
     "output_type": "display_data"
    }
   ],
   "source": [
    "# Run this cell without changes\n",
    "fig, ax = plt.subplots(figsize=(16,5))\n",
    "\n",
    "ax.scatter(all_review_counts, all_ratings, alpha=0.2)\n",
    "ax.set_xlabel(\"Number of Reviews\")\n",
    "ax.set_ylabel(\"Rating\")\n",
    "# \"zoom in\" to a subset of review counts\n",
    "ax.set_xlim(left=0, right=1000);"
   ]
  },
  {
   "cell_type": "markdown",
   "metadata": {},
   "source": [
    "Is a higher number of reviews associated with a higher rating?"
   ]
  },
  {
   "cell_type": "code",
   "execution_count": 27,
   "metadata": {},
   "outputs": [
    {
     "data": {
      "text/plain": [
       "\"\\nBased on the scatter plot of the number of reviews versus the rating of businesses, there doesn't seem to be a clear association between a higher number of reviews and a higher rating.\\n\\nThe plot shows a relatively uniform distribution of ratings across different numbers of reviews. While there is a concentration of businesses with lower ratings at lower review counts, there are also businesses with higher ratings across the entire range of review counts.\\n\\nThis suggests that the number of reviews alone is not a strong predictor of a business's rating. While businesses with a higher number of reviews may generally have a broader customer base and more feedback, the quality of those reviews and other factors such as the overall customer experience likely have a more significant influence on the rating. \\n\\nTherefore, while it's possible for businesses with more reviews to have higher ratings, it's not a deterministic relationship, and other factors play a crucial role in determining a business's rating.\\n\""
      ]
     },
     "execution_count": 27,
     "metadata": {},
     "output_type": "execute_result"
    }
   ],
   "source": [
    "# Replace None with appropriate text\n",
    "\"\"\"\n",
    "Based on the scatter plot of the number of reviews versus the rating of businesses, there doesn't seem to be a clear association between a higher number of reviews and a higher rating.\n",
    "\n",
    "The plot shows a relatively uniform distribution of ratings across different numbers of reviews. While there is a concentration of businesses with lower ratings at lower review counts, there are also businesses with higher ratings across the entire range of review counts.\n",
    "\n",
    "This suggests that the number of reviews alone is not a strong predictor of a business's rating. While businesses with a higher number of reviews may generally have a broader customer base and more feedback, the quality of those reviews and other factors such as the overall customer experience likely have a more significant influence on the rating. \n",
    "\n",
    "Therefore, while it's possible for businesses with more reviews to have higher ratings, it's not a deterministic relationship, and other factors play a crucial role in determining a business's rating.\n",
    "\"\"\""
   ]
  },
  {
   "cell_type": "markdown",
   "metadata": {},
   "source": [
    "## 4. Create a Folium Map\n",
    "\n",
    "Make a map using Folium of the businesses you retrieved. Be sure to also add popups to the markers giving some basic information such as name, rating and price.\n",
    "\n",
    "You can center the map around the latitude and longitude of the first item in `full_dataset`."
   ]
  },
  {
   "cell_type": "code",
   "execution_count": 30,
   "metadata": {},
   "outputs": [
    {
     "name": "stdout",
     "output_type": "stream",
     "text": [
      "Length of full_dataset: 0\n",
      "No businesses found in the dataset.\n"
     ]
    },
    {
     "data": {
      "image/png": "[encoded data removed]",
      "text/plain": [
       "<Figure size 1600x500 with 1 Axes>"
      ]
     },
     "metadata": {},
     "output_type": "display_data"
    },
    {
     "data": {
      "image/png": "[encoded data removed]",
      "text/plain": [
       "<Figure size 1600x500 with 1 Axes>"
      ]
     },
     "metadata": {},
     "output_type": "display_data"
    },
    {
     "data": {
      "image/png": "[encoded data removed]",
      "text/plain": [
       "<Figure size 1600x500 with 1 Axes>"
      ]
     },
     "metadata": {},
     "output_type": "display_data"
    }
   ],
   "source": [
    "# Replace None with appropriate code\n",
    "# Import libraries\n",
    "import requests\n",
    "from collections import Counter\n",
    "import matplotlib.pyplot as plt\n",
    "import folium\n",
    "\n",
    "# Function to prepare data\n",
    "def prepare_data(data_list):\n",
    "    \"\"\"\n",
    "    This function takes in a list of dictionaries and prepares it\n",
    "    for analysis\n",
    "    \"\"\"\n",
    "    results = []\n",
    "    for business_data in data_list:\n",
    "        prepared_data = {}\n",
    "        prepared_data['name'] = business_data.get('name')\n",
    "        prepared_data['review_count'] = business_data.get('review_count')\n",
    "        prepared_data['rating'] = business_data.get('rating')\n",
    "        prepared_data['price'] = business_data.get('price')\n",
    "        coordinates = business_data.get('coordinates')\n",
    "        if coordinates:\n",
    "            prepared_data['latitude'] = coordinates.get('latitude')\n",
    "            prepared_data['longitude'] = coordinates.get('longitude')\n",
    "        if all(prepared_data.values()):\n",
    "            results.append(prepared_data)\n",
    "    return results\n",
    "\n",
    "# Function to get offsets\n",
    "def get_offsets(total):\n",
    "    num_pages = total // 50 + (1 if total % 50 != 0 else 0)\n",
    "    offsets = [offset * 50 for offset in range(num_pages)]\n",
    "    return offsets\n",
    "\n",
    "# Make initial request\n",
    "api_key = \"YOUR_YELP_API_KEY_HERE\"\n",
    "term = \"pizza\"\n",
    "location = \"New York NY\"\n",
    "url = \"https://api.yelp.com/v3/businesses/search\"\n",
    "headers = {\"Authorization\": \"Bearer {}\".format(api_key)}\n",
    "url_params = {\"term\": term.replace(\" \", \"+\"), \"location\": location.replace(\" \", \"+\")}\n",
    "response = requests.get(url, headers=headers, params=url_params)\n",
    "response_json = response.json()\n",
    "\n",
    "# Get total results and calculate total\n",
    "total_results = response_json.get(\"total\", 0)\n",
    "if total_results < 1000:\n",
    "    total = total_results\n",
    "else:\n",
    "    total = 1000\n",
    "\n",
    "# Get offsets\n",
    "offsets = get_offsets(total)\n",
    "\n",
    "# Retrieve data for each offset\n",
    "full_dataset = []\n",
    "for offset in offsets:\n",
    "    url_params[\"offset\"] = offset\n",
    "    response = requests.get(url, headers=headers, params=url_params)\n",
    "    response_json = response.json()\n",
    "    businesses = response_json.get('businesses', [])\n",
    "    prepared_businesses = prepare_data(businesses)\n",
    "    full_dataset.extend(prepared_businesses)\n",
    "\n",
    "# Debug print to check length of full_dataset\n",
    "print(\"Length of full_dataset:\", len(full_dataset))\n",
    "\n",
    "# Plot distribution of number of reviews\n",
    "fig, ax = plt.subplots(figsize=(16, 5))\n",
    "all_review_counts = [x[\"review_count\"] for x in full_dataset]\n",
    "ax.hist(all_review_counts)\n",
    "ax.set_title(\"Review Count Distribution\")\n",
    "ax.set_xlabel(\"Number of Reviews\")\n",
    "ax.set_ylabel(\"Number of Businesses\")\n",
    "\n",
    "# Plot rating distribution\n",
    "fig, ax = plt.subplots(figsize=(16, 5))\n",
    "all_ratings = [x[\"rating\"] for x in full_dataset]\n",
    "rating_counter = Counter(all_ratings)\n",
    "rating_keys = sorted(rating_counter.keys())\n",
    "ax.bar(rating_keys, [rating_counter[key] for key in rating_keys])\n",
    "ax.set_title(\"Rating Distribution\")\n",
    "ax.set_xlabel(\"Rating\")\n",
    "ax.set_ylabel(\"Number of Businesses\")\n",
    "\n",
    "# Plot price distribution\n",
    "fig, ax = plt.subplots(figsize=(16, 5))\n",
    "all_prices = [x[\"price\"].replace(\"$\", r\"\\$\") for x in full_dataset]\n",
    "price_counter = Counter(all_prices)\n",
    "price_keys = sorted(price_counter.keys())\n",
    "ax.bar(price_keys, [price_counter[key] for key in price_keys])\n",
    "ax.set_title(\"Price Distribution\")\n",
    "ax.set_xlabel(\"Price Category\")\n",
    "ax.set_ylabel(\"Number of Businesses\")\n",
    "\n",
    "# Create Folium map\n",
    "if len(full_dataset) > 0:\n",
    "    center_lat = full_dataset[0][\"latitude\"]\n",
    "    center_long = full_dataset[0][\"longitude\"]\n",
    "    yelp_map = folium.Map(location=[center_lat, center_long], zoom_start=12)\n",
    "\n",
    "    limit = 100\n",
    "    for business in full_dataset[:limit]:\n",
    "        lat = business[\"latitude\"]\n",
    "        long = business[\"longitude\"]\n",
    "        name = business[\"name\"]\n",
    "        rating = business[\"rating\"]\n",
    "        price = business[\"price\"]\n",
    "        details = \"{}\\nPrice: {} Rating:{}\".format(name, price, rating)\n",
    "        popup = folium.Popup(details, parse_html=True)\n",
    "        marker = folium.Marker(location=[lat, long], popup=popup)\n",
    "        marker.add_to(yelp_map)\n",
    "\n",
    "    yelp_map\n",
    "else:\n",
    "    print(\"No businesses found in the dataset.\")\n",
    "\n"
   ]
  },
  {
   "cell_type": "markdown",
   "metadata": {},
   "source": [
    "## Summary\n",
    "\n",
    "Nice work! In this lab, you've made multiple API calls to Yelp in order to paginate through a results set, performing some basic exploratory analysis and then creating a nice interactive map to display the results using Folium! Well done!"
   ]
  }
 ],
 "metadata": {
  "kernelspec": {
   "display_name": "Python 3 (ipykernel)",
   "language": "python",
   "name": "python3"
  },
  "language_info": {
   "codemirror_mode": {
    "name": "ipython",
    "version": 3
   },
   "file_extension": ".py",
   "mimetype": "text/x-python",
   "name": "python",
   "nbconvert_exporter": "python",
   "pygments_lexer": "ipython3",
   "version": "3.8.16"
  },
  "toc": {
   "base_numbering": 1,
   "nav_menu": {},
   "number_sections": true,
   "sideBar": true,
   "skip_h1_title": false,
   "title_cell": "Table of Contents",
   "title_sidebar": "Contents",
   "toc_cell": false,
   "toc_position": {},
   "toc_section_display": true,
   "toc_window_display": false
  }
 },
 "nbformat": 4,
 "nbformat_minor": 4
}
